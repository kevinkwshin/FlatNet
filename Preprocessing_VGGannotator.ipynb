{
 "cells": [
  {
   "cell_type": "markdown",
   "metadata": {},
   "source": [
    "# CSV to NPY"
   ]
  },
  {
   "cell_type": "code",
   "execution_count": 4,
   "metadata": {},
   "outputs": [
    {
     "name": "stdout",
     "output_type": "stream",
     "text": [
      "You have unique region counts :  [25] it is fine :)\n"
     ]
    }
   ],
   "source": [
    "# input csv and path!!!\n",
    "##############################################\n",
    "# path_csv = 'dataset/flat_feet/csv/train/'\n",
    "# path_to_save_label = 'dataset/flat_feet/label/'\n",
    "\n",
    "# path_csv = 'dataset/flat_feet/csv/test/'\n",
    "# path_to_save_label = 'dataset/flat_feet/label_test/'\n",
    "\n",
    "# path_csv = 'dataset/flat_feet/csv/test_2nd_50case/'\n",
    "# path_to_save_label = 'dataset/flat_feet/label_test_2nd/'\n",
    "\n",
    "# path_csv = 'dataset/flat_feet/csv/test_observer1/'\n",
    "# path_to_save_label = 'dataset/flat_feet/label_test_observer1/'\n",
    "\n",
    "path_csv = ''\n",
    "path_to_save_label = ''\n",
    "\n",
    "##############################################\n",
    "\n",
    "import glob\n",
    "from natsort import natsorted\n",
    "import pandas as pd\n",
    "import os\n",
    "import numpy as np\n",
    "import cv2\n",
    "from tqdm import trange\n",
    "\n",
    "file_csv = glob.glob(path_csv+'*.csv')\n",
    "df = pd.read_csv(file_csv[-1])\n",
    "\n",
    "region_count = df['region_count'][0]\n",
    "if len(np.unique(df['region_count'])) == 1:\n",
    "    print('You have unique region counts : ', np.unique(df['region_count']), 'it is fine :)')\n",
    "else:\n",
    "    print('You have not unique region counts, please check csv again', np.unique(df['region_count']))"
   ]
  },
  {
   "cell_type": "code",
   "execution_count": 5,
   "metadata": {},
   "outputs": [
    {
     "name": "stderr",
     "output_type": "stream",
     "text": [
      "100%|██████████| 2600/2600 [00:00<00:00, 8092.55it/s]\n"
     ]
    }
   ],
   "source": [
    "for idx in trange(len(df)):\n",
    "    \n",
    "    if df['region_id'][idx]==0:\n",
    "        coords = list()\n",
    "        fname = df['filename'][idx]\n",
    "    else:\n",
    "        pass\n",
    "        \n",
    "    x = int(df['region_shape_attributes'][idx].split(':')[2].split(',')[0])\n",
    "    y = int(df['region_shape_attributes'][idx].split(':')[3].split('}')[0])\n",
    "    coords.append([x,y])\n",
    "\n",
    "    if df['region_id'][idx]==24: # n+1만큼 데이터 생성....\n",
    "        np.save(path_to_save_label + fname,coords)"
   ]
  },
  {
   "cell_type": "code",
   "execution_count": null,
   "metadata": {},
   "outputs": [],
   "source": [
    "import pylab as plt\n",
    "\n",
    "img = cv2.imread('dataset/Segmentation_210712/LERA_WBLR/refined/1002_ST-1_2.png')\n",
    "lbl = np.load('1002_ST-1_2.png.npy')"
   ]
  },
  {
   "cell_type": "code",
   "execution_count": null,
   "metadata": {},
   "outputs": [],
   "source": [
    "plt.imshow(img)\n",
    "plt.scatter(lbl[:,0], lbl[:,1],alpha=0.5)"
   ]
  },
  {
   "cell_type": "code",
   "execution_count": null,
   "metadata": {},
   "outputs": [],
   "source": []
  }
 ],
 "metadata": {
  "kernelspec": {
   "display_name": "Python 3",
   "language": "python",
   "name": "python3"
  },
  "language_info": {
   "codemirror_mode": {
    "name": "ipython",
    "version": 3
   },
   "file_extension": ".py",
   "mimetype": "text/x-python",
   "name": "python",
   "nbconvert_exporter": "python",
   "pygments_lexer": "ipython3",
   "version": "3.8.8"
  }
 },
 "nbformat": 4,
 "nbformat_minor": 4
}
