{
 "cells": [
  {
   "cell_type": "code",
   "execution_count": 1,
   "metadata": {},
   "outputs": [
    {
     "name": "stdout",
     "output_type": "stream",
     "text": [
      "Tue Nov  2 13:26:49 2021       \n",
      "+-----------------------------------------------------------------------------+\n",
      "| NVIDIA-SMI 460.73.01    Driver Version: 460.73.01    CUDA Version: 11.2     |\n",
      "|-------------------------------+----------------------+----------------------+\n",
      "| GPU  Name        Persistence-M| Bus-Id        Disp.A | Volatile Uncorr. ECC |\n",
      "| Fan  Temp  Perf  Pwr:Usage/Cap|         Memory-Usage | GPU-Util  Compute M. |\n",
      "|                               |                      |               MIG M. |\n",
      "|===============================+======================+======================|\n",
      "|   0  TITAN RTX           Off  | 00000000:02:00.0 Off |                  N/A |\n",
      "| 44%   52C    P0    67W / 280W |      0MiB / 24220MiB |      0%      Default |\n",
      "|                               |                      |                  N/A |\n",
      "+-------------------------------+----------------------+----------------------+\n",
      "|   1  TITAN RTX           Off  | 00000000:03:00.0 Off |                  N/A |\n",
      "| 44%   53C    P0    60W / 280W |      0MiB / 24220MiB |      1%      Default |\n",
      "|                               |                      |                  N/A |\n",
      "+-------------------------------+----------------------+----------------------+\n",
      "|   2  TITAN RTX           Off  | 00000000:82:00.0 Off |                  N/A |\n",
      "| 41%   49C    P0    58W / 280W |      0MiB / 24220MiB |      0%      Default |\n",
      "|                               |                      |                  N/A |\n",
      "+-------------------------------+----------------------+----------------------+\n",
      "|   3  TITAN RTX           Off  | 00000000:83:00.0 Off |                  N/A |\n",
      "| 28%   58C    P0    55W / 280W |      0MiB / 24220MiB |      0%      Default |\n",
      "|                               |                      |                  N/A |\n",
      "+-------------------------------+----------------------+----------------------+\n",
      "                                                                               \n",
      "+-----------------------------------------------------------------------------+\n",
      "| Processes:                                                                  |\n",
      "|  GPU   GI   CI        PID   Type   Process name                  GPU Memory |\n",
      "|        ID   ID                                                   Usage      |\n",
      "|=============================================================================|\n",
      "|  No running processes found                                                 |\n",
      "+-----------------------------------------------------------------------------+\n"
     ]
    }
   ],
   "source": [
    "# !pip install pycocotools --user\n",
    "!nvidia-smi\n",
    "import os\n",
    "import argparse\n",
    "import numpy as np\n",
    "import torch\n",
    "import torch.optim as optim\n",
    "from torchvision import transforms\n",
    "from retinanet import model\n",
    "from retinanet.dataloader import CocoDataset, CSVDataset, collater, Resizer, AspectRatioBasedSampler, Augmenter, Normalizer\n",
    "from torch.utils.data import DataLoader\n",
    "from retinanet import coco_eval\n",
    "from retinanet import csv_eval\n",
    "import collections\n",
    "assert torch.__version__.split('.')[0] == '1'\n",
    "\n",
    "os.environ['CUDA_VISIBLE_DEVICES'] = '0'\n",
    "\n",
    "LEARNING_RATE = 1e-5\n",
    "EPOCH = 200\n",
    "BATCH_SIZE = 4\n",
    "MODEL_SAVE_PATH = \"/workspace/flat_feet/pytorch-retinanet/weight/\"\n",
    "\n",
    "if not os.path.exists(MODEL_SAVE_PATH):\n",
    "    os.makedirs(MODEL_SAVE_PATH)\n",
    "\n",
    "PRETRAINED_CHECK = True\n",
    "USE_GPU = True"
   ]
  },
  {
   "cell_type": "markdown",
   "metadata": {},
   "source": [
    "# 데이터셋(csv format) 의 경로를 설정합니다!\n",
    "\n",
    "\n",
    "총 3가지 데이터셋 파일이 필요합니다!\\\n",
    "1.학습용 데이터셋 csv포맷\\\n",
    "2.검증용 데이터셋 csv포맷\\\n",
    "3.class 정보를 알려주는 데이터셋 csv포맷"
   ]
  },
  {
   "cell_type": "code",
   "execution_count": 3,
   "metadata": {},
   "outputs": [],
   "source": [
    "root_dir = \"/workspace/flat_feet/dataset/data(all)/\"\n",
    "\n",
    "csv_train_path = root_dir + \"annotations_200.csv\" \n",
    "csv_valid_path = root_dir + \"val_annotations_200.csv\" \n",
    "csv_class_path = root_dir + \"classes.csv\" "
   ]
  },
  {
   "cell_type": "markdown",
   "metadata": {},
   "source": [
    "# 로더를 생성해 줍니다!\n",
    "\n",
    "!!! 별도로 건들일것 없이 그냥 shift + enter 눌러주시면 됩니다!"
   ]
  },
  {
   "cell_type": "code",
   "execution_count": null,
   "metadata": {},
   "outputs": [],
   "source": [
    "#train data loader\n",
    "dataset_train = CSVDataset(train_file=csv_train_path, class_list=csv_class_path,\n",
    "                                   transform=transforms.Compose([Normalizer(), Augmenter(), Resizer()]))\n",
    "\n",
    "sampler = AspectRatioBasedSampler(dataset_train, batch_size=BATCH_SIZE, drop_last=False)\n",
    "dataloader_train = DataLoader(dataset_train, num_workers=0, collate_fn=collater, batch_sampler=sampler)\n",
    "\n",
    "\n",
    "#validation data loader \n",
    "dataset_val = CSVDataset(train_file=csv_valid_path, class_list=csv_class_path,\n",
    "                                     transform=transforms.Compose([Normalizer(), Resizer()]))\n",
    "\n",
    "sampler_val = AspectRatioBasedSampler(dataset_val, batch_size=1, drop_last=False)\n",
    "dataloader_val = DataLoader(dataset_val, num_workers=0, collate_fn=collater, batch_sampler=sampler_val)"
   ]
  },
  {
   "cell_type": "markdown",
   "metadata": {},
   "source": [
    "# back bone 모델을 설정해 줍니다!\n",
    "\n",
    "원하시는것 고르시면 됩니다! 저는 보통 resnet 101을 사용했습니다!"
   ]
  },
  {
   "cell_type": "code",
   "execution_count": null,
   "metadata": {},
   "outputs": [],
   "source": [
    "#retinanet = model.resnet18(num_classes=dataset_train.num_classes(), pretrained=PRETRAINED_CHECK)\n",
    "#retinanet = model.resnet34(num_classes=dataset_train.num_classes(), pretrained=PRETRAINED_CHECK)\n",
    "#retinanet = model.resnet50(num_classes=dataset_train.num_classes(), pretrained=PRETRAINED_CHECK)\n",
    "retinanet = model.resnet101(num_classes=dataset_train.num_classes(), pretrained=PRETRAINED_CHECK)\n",
    "#retinanet = model.resnet152(num_classes=dataset_train.num_classes(), pretrained=PRETRAINED_CHECK)"
   ]
  },
  {
   "cell_type": "markdown",
   "metadata": {},
   "source": [
    "# 학습에 사용되는 파라미터들을 설정 합니다.\n",
    "\n",
    "아마 디폴트로 설정해놓은 값 그대로 사용하셔도 무방할것 같습니다."
   ]
  },
  {
   "cell_type": "code",
   "execution_count": null,
   "metadata": {},
   "outputs": [],
   "source": [
    "use_gpu = USE_GPU\n",
    "retinanet = retinanet.cuda()\n",
    "retinanet = torch.nn.DataParallel(retinanet).cuda()\n",
    "\n",
    "retinanet.training = True\n",
    "optimizer = optim.Adam(retinanet.parameters(), lr=LEARNING_RATE)\n",
    "scheduler = optim.lr_scheduler.ReduceLROnPlateau(optimizer, patience=3, verbose=True)\n",
    "loss_hist = collections.deque(maxlen=500)\n",
    "\n",
    "retinanet.train()\n",
    "retinanet.module.freeze_bn()\n",
    "print('Num training images: {}'.format(len(dataset_train)))"
   ]
  },
  {
   "cell_type": "code",
   "execution_count": null,
   "metadata": {
    "scrolled": true
   },
   "outputs": [],
   "source": [
    "valid_map = 0\n",
    "\n",
    "for epoch_num in range(EPOCH): \n",
    "    retinanet.train()\n",
    "    retinanet.module.freeze_bn()\n",
    "    epoch_loss = []\n",
    "\n",
    "    for iter_num, data in enumerate(dataloader_train):\n",
    "        try:\n",
    "            optimizer.zero_grad()\n",
    "\n",
    "            if torch.cuda.is_available():\n",
    "                classification_loss, regression_loss = retinanet([data['img'].cuda().float(), data['annot']])\n",
    "            else:\n",
    "                classification_loss, regression_loss = retinanet([data['img'].float(), data['annot']])\n",
    "\n",
    "            classification_loss = classification_loss.mean()\n",
    "            regression_loss = regression_loss.mean()\n",
    "\n",
    "            loss = classification_loss + regression_loss\n",
    "\n",
    "            if bool(loss == 0):\n",
    "                continue\n",
    "\n",
    "            loss.backward()\n",
    "            torch.nn.utils.clip_grad_norm_(retinanet.parameters(), 0.1)\n",
    "            optimizer.step()\n",
    "            loss_hist.append(float(loss))\n",
    "            epoch_loss.append(float(loss))\n",
    "    \n",
    "            \"\"\"\n",
    "            print(\n",
    "                'Epoch: {} | Iteration: {} | Classification loss: {:1.5f} | Regression loss: {:1.5f} | Running loss: {:1.5f}'.format(\n",
    "                    epoch_num, iter_num, float(classification_loss), float(regression_loss), np.mean(loss_hist)))\n",
    "            \"\"\"\n",
    "    \n",
    "            del classification_loss\n",
    "            del regression_loss\n",
    "            \n",
    "        except Exception as e:\n",
    "            print(e)\n",
    "            continue\n",
    "\n",
    "\n",
    "    print('Evaluating dataset')\n",
    "\n",
    "    mean_map = 0\n",
    "    mAP = csv_eval.evaluate(dataset_val, retinanet)\n",
    "    \n",
    "    for i in range(25):\n",
    "        mean_map += mAP[i][0]\n",
    "    \n",
    "    if(mean_map > valid_map):\n",
    "        torch.save(retinanet.module, MODEL_SAVE_PATH +'retinanet_{}.pt'.format(epoch_num))\n",
    "        valid_map = mean_map\n",
    "        print(\"#\"*60)\n",
    "        print('model save!!!!!!!_{}.pt'.format(valid_map))\n",
    "        print(\"#\"*60)\n",
    "    \n",
    "    scheduler.step(np.mean(epoch_loss))\n",
    "\n",
    "retinanet.eval()"
   ]
  },
  {
   "cell_type": "code",
   "execution_count": null,
   "metadata": {},
   "outputs": [],
   "source": []
  }
 ],
 "metadata": {
  "kernelspec": {
   "display_name": "Python 3",
   "language": "python",
   "name": "python3"
  },
  "language_info": {
   "codemirror_mode": {
    "name": "ipython",
    "version": 3
   },
   "file_extension": ".py",
   "mimetype": "text/x-python",
   "name": "python",
   "nbconvert_exporter": "python",
   "pygments_lexer": "ipython3",
   "version": "3.8.8"
  }
 },
 "nbformat": 4,
 "nbformat_minor": 4
}
